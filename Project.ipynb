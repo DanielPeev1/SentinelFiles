{
  "cells": [
    {
      "cell_type": "markdown",
      "metadata": {
        "id": "view-in-github",
        "colab_type": "text"
      },
      "source": [
        "<a href=\"https://colab.research.google.com/github/DanielPeev1/SentinelFiles/blob/main/Project.ipynb\" target=\"_parent\"><img src=\"https://colab.research.google.com/assets/colab-badge.svg\" alt=\"Open In Colab\"/></a>"
      ]
    },
    {
      "cell_type": "code",
      "execution_count": null,
      "metadata": {
        "id": "4eQ4v7XumIgM"
      },
      "outputs": [],
      "source": [
        "# This mounts your Google Drive to the Colab VM.\n",
        "from google.colab import drive\n",
        "drive.mount('/content/drive')\n",
        "\n",
        "# TODO: Enter the foldername in your Drive where you have saved the unzipped\n",
        "# assignment folder, e.g. 'cs231n/assignments/assignment1/'\n",
        "FOLDERNAME = 'notebooks'\n",
        "assert FOLDERNAME is not None, \"[!] Enter the foldername.\"\n",
        "\n",
        "# Now that we've mounted your Drive, this ensures that\n",
        "# the Python interpreter of the Colab VM can load\n",
        "# python files from within it.\n",
        "import sys\n",
        "sys.path.append('/content/drive/My Drive/{}'.format(FOLDERNAME))\n",
        "\n",
        "%cd /content/drive/My\\ Drive/$FOLDERNAME"
      ]
    },
    {
      "cell_type": "code",
      "execution_count": null,
      "metadata": {
        "colab": {
          "base_uri": "https://localhost:8080/"
        },
        "id": "pDAmK7YW4y3z",
        "outputId": "42bd2ae3-0122-4509-b0c5-1e1cf9bbed9e"
      },
      "outputs": [
        {
          "output_type": "stream",
          "name": "stdout",
          "text": [
            "[name: \"/device:CPU:0\"\n",
            "device_type: \"CPU\"\n",
            "memory_limit: 268435456\n",
            "locality {\n",
            "}\n",
            "incarnation: 12466129244680038633\n",
            "xla_global_id: -1\n",
            ", name: \"/device:GPU:0\"\n",
            "device_type: \"GPU\"\n",
            "memory_limit: 14328594432\n",
            "locality {\n",
            "  bus_id: 1\n",
            "  links {\n",
            "  }\n",
            "}\n",
            "incarnation: 12823389963177283956\n",
            "physical_device_desc: \"device: 0, name: Tesla T4, pci bus id: 0000:00:04.0, compute capability: 7.5\"\n",
            "xla_global_id: 416903419\n",
            "]\n"
          ]
        }
      ],
      "source": [
        "from tensorflow.python.client import device_lib\n",
        "print(device_lib.list_local_devices())"
      ]
    },
    {
      "cell_type": "code",
      "execution_count": null,
      "metadata": {
        "colab": {
          "base_uri": "https://localhost:8080/"
        },
        "id": "AoZqNT4JlTSD",
        "outputId": "99df8963-a98a-45bf-bc1f-b45ed2e0e21d"
      },
      "outputs": [
        {
          "output_type": "stream",
          "name": "stdout",
          "text": [
            "Sar train:  (134, 114, 81, 2)\n",
            "lastNDVI train:  (134, 114, 71, 1)\n",
            "NDVI train:  (134, 8094)\n",
            "Sar test:  (34, 114, 81, 2)\n",
            "lastNDVI test:  (34, 114, 71, 1)\n",
            "NDVI train:  (34, 8094)\n"
          ]
        }
      ],
      "source": [
        "import numpy as np\n",
        "import tensorflow as tf\n",
        "from keras.layers import Activation, Dense, Flatten, BatchNormalization, Conv2D, MaxPool2D, Dropout, BatchNormalization, Input, concatenate, PReLU, GlobalAveragePooling2D\n",
        "from sklearn.model_selection import train_test_split\n",
        "from keras.models import Sequential\n",
        "from keras import Model\n",
        "\n",
        "dataset = np.load(\"./dataset.npy\", allow_pickle=True)\n",
        "sar = [ entry[\"sarImage\"] for entry in dataset]\n",
        "\n",
        "height = [ s.shape[0] for s in sar ]\n",
        "width = [ s.shape[1] for s in sar ]\n",
        "\n",
        "maxWidth = max(width)\n",
        "maxHeight = max(height)\n",
        "\n",
        "sar = np.array([np.pad(s, [(0, maxHeight - s.shape[0]),(0, maxWidth - s.shape[1]),(0,0)]) for s in sar])\n",
        "ndvi = np.array([ entry[\"y\"] for entry in dataset])\n",
        "lastNDVI = np.array([ entry[\"lastNDVI\"] for entry in dataset])\n",
        "ids = np.array([ entry[\"id\"] for entry in dataset])\n",
        "lastNDVIDays = np.array([ entry[\"lastNDVITakenBefore\"] for entry in dataset])\n",
        "\n",
        "\n",
        "lastNDVI = np.reshape(lastNDVI, (lastNDVI.shape[0], lastNDVI.shape[1], lastNDVI.shape[2], 1))\n",
        "\n",
        "sarShape = sar[0].shape\n",
        "lastNDVIShape = lastNDVI[0].shape\n",
        "ndviShape = ndvi[0].shape\n",
        "ndviReshaped = ndvi.reshape([ndvi.shape[0], ndvi.shape[1] * ndvi.shape[2]])\n",
        "\n",
        "flatLastNDVI = np.reshape(lastNDVI, [lastNDVI.shape[0], lastNDVIShape[0] * lastNDVIShape[1]])\n",
        "lastNDVIDays = np.reshape(lastNDVIDays, [lastNDVIDays.shape[0], 1])\n",
        "flatLastNDVI = np.hstack((flatLastNDVI, lastNDVIDays))\n",
        "\n",
        "trainID, testID, trainX, testX, trainLastNDVI, testLastNDVI, trainDays, testDays, trainY, testY = train_test_split(ids, sar, lastNDVI, lastNDVIDays, ndviReshaped, test_size=0.20, random_state=48)\n",
        "print(\"Sar train: \", trainX.shape)\n",
        "print(\"lastNDVI train: \", trainLastNDVI.shape)\n",
        "print(\"NDVI train: \", trainY.shape)\n",
        "\n",
        "print(\"Sar test: \", testX.shape)\n",
        "print(\"lastNDVI test: \", testLastNDVI.shape)\n",
        "print(\"NDVI train: \", testY.shape)"
      ]
    },
    {
      "cell_type": "code",
      "execution_count": null,
      "metadata": {
        "colab": {
          "base_uri": "https://localhost:8080/"
        },
        "id": "q4StLgSRyPMe",
        "outputId": "211e6851-71f8-4bf5-88c5-8791db779bf6"
      },
      "outputs": [
        {
          "output_type": "stream",
          "name": "stdout",
          "text": [
            "Model: \"model_32\"\n",
            "_________________________________________________________________\n",
            " Layer (type)                Output Shape              Param #   \n",
            "=================================================================\n",
            " input_22 (InputLayer)       [(None, None, None, 2)]   0         \n",
            "                                                                 \n",
            " batch_normalization_8 (Batc  (None, None, None, 2)    8         \n",
            " hNormalization)                                                 \n",
            "                                                                 \n",
            " conv2d_39 (Conv2D)          (None, None, None, 64)    1216      \n",
            "                                                                 \n",
            " max_pooling2d_32 (MaxPoolin  (None, None, None, 64)   0         \n",
            " g2D)                                                            \n",
            "                                                                 \n",
            " dropout_24 (Dropout)        (None, None, None, 64)    0         \n",
            "                                                                 \n",
            " conv2d_40 (Conv2D)          (None, None, None, 128)   73856     \n",
            "                                                                 \n",
            " max_pooling2d_33 (MaxPoolin  (None, None, None, 128)  0         \n",
            " g2D)                                                            \n",
            "                                                                 \n",
            " dropout_25 (Dropout)        (None, None, None, 128)   0         \n",
            "                                                                 \n",
            " conv2d_41 (Conv2D)          (None, None, None, 256)   295168    \n",
            "                                                                 \n",
            " max_pooling2d_34 (MaxPoolin  (None, None, None, 256)  0         \n",
            " g2D)                                                            \n",
            "                                                                 \n",
            " global_average_pooling2d_15  (None, 256)              0         \n",
            "  (GlobalAveragePooling2D)                                       \n",
            "                                                                 \n",
            "=================================================================\n",
            "Total params: 370,248\n",
            "Trainable params: 370,244\n",
            "Non-trainable params: 4\n",
            "_________________________________________________________________\n",
            "None\n"
          ]
        }
      ],
      "source": [
        "inputSar = Input(shape=(None, None, 2))\n",
        "img = BatchNormalization()(inputSar)\n",
        "img = Conv2D(filters = 64, kernel_size = (3, 3), activation = 'relu', padding = 'same')(img)\n",
        "img = MaxPool2D(pool_size=(2, 2))(img)\n",
        "img = Dropout(0.2)(img)\n",
        "img = Conv2D(filters = 128, kernel_size = (3, 3), activation = 'relu', padding = 'same')(img)\n",
        "img = MaxPool2D(pool_size=(2, 2))(img)\n",
        "img = Dropout(0.2)(img)\n",
        "img = Conv2D(filters = 256, kernel_size = (3, 3), activation = 'relu', padding = 'same')(img)\n",
        "img = MaxPool2D(pool_size=(4, 4))(img)\n",
        "img = GlobalAveragePooling2D()(img)\n",
        "img = Model(inputs=inputSar, outputs=img)\n",
        "\n",
        "print(img.summary())"
      ]
    },
    {
      "cell_type": "code",
      "execution_count": null,
      "metadata": {
        "colab": {
          "base_uri": "https://localhost:8080/"
        },
        "id": "Bh8QVSG7V36x",
        "outputId": "3ccee49b-516f-48fa-d2a0-9bafaa0856d2"
      },
      "outputs": [
        {
          "name": "stdout",
          "output_type": "stream",
          "text": [
            "Model: \"model_4\"\n",
            "_________________________________________________________________\n",
            " Layer (type)                Output Shape              Param #   \n",
            "=================================================================\n",
            " input_4 (InputLayer)        [(None, 8095)]            0         \n",
            "                                                                 \n",
            " dense_3 (Dense)             (None, 8095)              65537120  \n",
            "                                                                 \n",
            "=================================================================\n",
            "Total params: 65,537,120\n",
            "Trainable params: 65,537,120\n",
            "Non-trainable params: 0\n",
            "_________________________________________________________________\n",
            "None\n"
          ]
        }
      ],
      "source": [
        "#inputLastNDVI = Input(shape=lastNDVIShape[0] * lastNDVIShape[1] + 1)\n",
        "#lndvi = Dense(8095, activation='relu')(inputLastNDVI)\n",
        "#lndvi = Model(inputs=inputLastNDVI, outputs=lndvi)\n",
        "#print(lndvi.summary())"
      ]
    },
    {
      "cell_type": "code",
      "execution_count": null,
      "metadata": {
        "colab": {
          "base_uri": "https://localhost:8080/"
        },
        "id": "VeLVnpEgDo-i",
        "outputId": "0d89fbbd-bba9-4099-f67c-70f787829f9d"
      },
      "outputs": [
        {
          "output_type": "stream",
          "name": "stdout",
          "text": [
            "(114, 71, 1)\n",
            "Model: \"model_33\"\n",
            "_________________________________________________________________\n",
            " Layer (type)                Output Shape              Param #   \n",
            "=================================================================\n",
            " input_23 (InputLayer)       [(None, None, None, 1)]   0         \n",
            "                                                                 \n",
            " conv2d_42 (Conv2D)          (None, None, None, 256)   2560      \n",
            "                                                                 \n",
            " dropout_26 (Dropout)        (None, None, None, 256)   0         \n",
            "                                                                 \n",
            " conv2d_43 (Conv2D)          (None, None, None, 512)   1180160   \n",
            "                                                                 \n",
            " max_pooling2d_35 (MaxPoolin  (None, None, None, 512)  0         \n",
            " g2D)                                                            \n",
            "                                                                 \n",
            " global_average_pooling2d_16  (None, 512)              0         \n",
            "  (GlobalAveragePooling2D)                                       \n",
            "                                                                 \n",
            "=================================================================\n",
            "Total params: 1,182,720\n",
            "Trainable params: 1,182,720\n",
            "Non-trainable params: 0\n",
            "_________________________________________________________________\n",
            "None\n"
          ]
        }
      ],
      "source": [
        "print(lastNDVIShape)\n",
        "inputLastNDVI = Input(shape=(None, None, 1))\n",
        "lndvi = Conv2D(filters = 256, kernel_size = (3, 3), activation = 'relu', padding = 'same')(inputLastNDVI)\n",
        "lndvi = Dropout(0.2)(lndvi)\n",
        "lndvi = Conv2D(filters = 512, kernel_size = (3, 3), activation = 'relu', padding = 'same')(lndvi)\n",
        "lndvi = MaxPool2D(pool_size=(4, 4))(lndvi)\n",
        "lndvi = GlobalAveragePooling2D()(lndvi)\n",
        "lndvi = Model(inputs=inputLastNDVI, outputs=lndvi)\n",
        "print(lndvi.summary())"
      ]
    },
    {
      "cell_type": "code",
      "execution_count": null,
      "metadata": {
        "id": "YNQfg-g5UUBH"
      },
      "outputs": [],
      "source": [
        "daysInput = Input(shape=(1))\n",
        "days = Dense(10, activation=\"relu\")(daysInput)\n",
        "days = Model(inputs=daysInput, outputs=days)"
      ]
    },
    {
      "cell_type": "code",
      "execution_count": null,
      "metadata": {
        "colab": {
          "base_uri": "https://localhost:8080/"
        },
        "id": "EmZ1qOCRXF3-",
        "outputId": "098d36a8-3fda-4fe3-c15d-45de9a9af910"
      },
      "outputs": [
        {
          "output_type": "stream",
          "name": "stdout",
          "text": [
            "Model: \"model_35\"\n",
            "__________________________________________________________________________________________________\n",
            " Layer (type)                   Output Shape         Param #     Connected to                     \n",
            "==================================================================================================\n",
            " input_22 (InputLayer)          [(None, None, None,  0           []                               \n",
            "                                 2)]                                                              \n",
            "                                                                                                  \n",
            " batch_normalization_8 (BatchNo  (None, None, None,   8          ['input_22[0][0]']               \n",
            " rmalization)                   2)                                                                \n",
            "                                                                                                  \n",
            " conv2d_39 (Conv2D)             (None, None, None,   1216        ['batch_normalization_8[0][0]']  \n",
            "                                64)                                                               \n",
            "                                                                                                  \n",
            " max_pooling2d_32 (MaxPooling2D  (None, None, None,   0          ['conv2d_39[0][0]']              \n",
            " )                              64)                                                               \n",
            "                                                                                                  \n",
            " dropout_24 (Dropout)           (None, None, None,   0           ['max_pooling2d_32[0][0]']       \n",
            "                                64)                                                               \n",
            "                                                                                                  \n",
            " conv2d_40 (Conv2D)             (None, None, None,   73856       ['dropout_24[0][0]']             \n",
            "                                128)                                                              \n",
            "                                                                                                  \n",
            " input_23 (InputLayer)          [(None, None, None,  0           []                               \n",
            "                                 1)]                                                              \n",
            "                                                                                                  \n",
            " max_pooling2d_33 (MaxPooling2D  (None, None, None,   0          ['conv2d_40[0][0]']              \n",
            " )                              128)                                                              \n",
            "                                                                                                  \n",
            " conv2d_42 (Conv2D)             (None, None, None,   2560        ['input_23[0][0]']               \n",
            "                                256)                                                              \n",
            "                                                                                                  \n",
            " dropout_25 (Dropout)           (None, None, None,   0           ['max_pooling2d_33[0][0]']       \n",
            "                                128)                                                              \n",
            "                                                                                                  \n",
            " dropout_26 (Dropout)           (None, None, None,   0           ['conv2d_42[0][0]']              \n",
            "                                256)                                                              \n",
            "                                                                                                  \n",
            " conv2d_41 (Conv2D)             (None, None, None,   295168      ['dropout_25[0][0]']             \n",
            "                                256)                                                              \n",
            "                                                                                                  \n",
            " conv2d_43 (Conv2D)             (None, None, None,   1180160     ['dropout_26[0][0]']             \n",
            "                                512)                                                              \n",
            "                                                                                                  \n",
            " max_pooling2d_34 (MaxPooling2D  (None, None, None,   0          ['conv2d_41[0][0]']              \n",
            " )                              256)                                                              \n",
            "                                                                                                  \n",
            " max_pooling2d_35 (MaxPooling2D  (None, None, None,   0          ['conv2d_43[0][0]']              \n",
            " )                              512)                                                              \n",
            "                                                                                                  \n",
            " input_24 (InputLayer)          [(None, 1)]          0           []                               \n",
            "                                                                                                  \n",
            " global_average_pooling2d_15 (G  (None, 256)         0           ['max_pooling2d_34[0][0]']       \n",
            " lobalAveragePooling2D)                                                                           \n",
            "                                                                                                  \n",
            " global_average_pooling2d_16 (G  (None, 512)         0           ['max_pooling2d_35[0][0]']       \n",
            " lobalAveragePooling2D)                                                                           \n",
            "                                                                                                  \n",
            " dense_29 (Dense)               (None, 10)           20          ['input_24[0][0]']               \n",
            "                                                                                                  \n",
            " concatenate_12 (Concatenate)   (None, 778)          0           ['global_average_pooling2d_15[0][\n",
            "                                                                 0]',                             \n",
            "                                                                  'global_average_pooling2d_16[0][\n",
            "                                                                 0]',                             \n",
            "                                                                  'dense_29[0][0]']               \n",
            "                                                                                                  \n",
            " dense_30 (Dense)               (None, 1000)         779000      ['concatenate_12[0][0]']         \n",
            "                                                                                                  \n",
            " dense_31 (Dense)               (None, 8094)         8102094     ['dense_30[0][0]']               \n",
            "                                                                                                  \n",
            " p_re_lu_12 (PReLU)             (None, 8094)         8094        ['dense_31[0][0]']               \n",
            "                                                                                                  \n",
            "==================================================================================================\n",
            "Total params: 10,442,176\n",
            "Trainable params: 10,442,172\n",
            "Non-trainable params: 4\n",
            "__________________________________________________________________________________________________\n",
            "None\n"
          ]
        }
      ],
      "source": [
        "combined = concatenate([img.output, lndvi.output, days.output])\n",
        "model = Dense(1000, activation=\"relu\")(combined)\n",
        "model = Dense(ndviReshaped.shape[1])(model)\n",
        "model = PReLU()(model)\n",
        "model = Model(inputs=[img.input, lndvi.input, days.input], outputs=model)\n",
        "\n",
        "print(model.summary())"
      ]
    },
    {
      "cell_type": "code",
      "execution_count": null,
      "metadata": {
        "id": "pyXZGQb9VDBd"
      },
      "outputs": [],
      "source": [
        "model.compile(optimizer=tf.keras.optimizers.Adam(learning_rate = 0.001, weight_decay=0.01), loss=\"mean_squared_error\", metrics=[tf.keras.metrics.RootMeanSquaredError()])"
      ]
    },
    {
      "cell_type": "code",
      "execution_count": null,
      "metadata": {
        "colab": {
          "base_uri": "https://localhost:8080/"
        },
        "id": "6wSJ85bQa-Nn",
        "outputId": "a9965c37-4264-4243-a7ce-d7094600e9b0"
      },
      "outputs": [
        {
          "name": "stdout",
          "output_type": "stream",
          "text": [
            "['s1a-20220723-20220724' 's1b-20210510-20210510' 's1b-20210304-20210303'\n",
            " 's1a-20220228-20220226' 's1a-20220116-20220115' 's1a-20221101-20221103'\n",
            " 's1a-20211118-20211118' 's1b-20210827-20210828' 's1a-20210505-20210507'\n",
            " 's1a-20220524-20220525' 's1a-20220616-20220614' 's1a-20230424-20230422'\n",
            " 's1b-20210721-20210721' 's1a-20210716-20210716' 's1a-20210704-20210704'\n",
            " 's1b-20211118-20211118' 's1a-20220621-20220621' 's1a-20230605-20230606'\n",
            " 's1a-20220722-20220721' 's1b-20210710-20210711' 's1b-20210604-20210606'\n",
            " 's1a-20220517-20220517' 's1a-20220528-20220527' 's1a-20210209-20210209'\n",
            " 's1a-20220417-20220415' 's1a-20220325-20220326' 's1b-20210908-20210909'\n",
            " 's1a-20220803-20220803' 's1a-20220609-20220609' 's1a-20221027-20221027'\n",
            " 's1b-20210815-20210815' 's1b-20211030-20211029' 's1a-20220704-20220704'\n",
            " 's1b-20211019-20211019']\n"
          ]
        }
      ],
      "source": [
        "print(testID)"
      ]
    },
    {
      "cell_type": "code",
      "execution_count": null,
      "metadata": {
        "colab": {
          "base_uri": "https://localhost:8080/"
        },
        "id": "GUP9XzpMqTc4",
        "outputId": "086e6cf5-dce1-440e-eae5-986c9e3209a9"
      },
      "outputs": [
        {
          "output_type": "stream",
          "name": "stdout",
          "text": [
            "Epoch 1/30\n",
            "4/4 [==============================] - 5s 337ms/step - loss: 0.0788 - root_mean_squared_error: 0.2807 - val_loss: 0.1426 - val_root_mean_squared_error: 0.3776\n",
            "Epoch 2/30\n",
            "4/4 [==============================] - 1s 237ms/step - loss: 0.0532 - root_mean_squared_error: 0.2307 - val_loss: 0.0443 - val_root_mean_squared_error: 0.2104\n",
            "Epoch 3/30\n",
            "4/4 [==============================] - 1s 232ms/step - loss: 0.0396 - root_mean_squared_error: 0.1990 - val_loss: 0.0325 - val_root_mean_squared_error: 0.1804\n",
            "Epoch 4/30\n",
            "4/4 [==============================] - 1s 223ms/step - loss: 0.0349 - root_mean_squared_error: 0.1867 - val_loss: 0.0299 - val_root_mean_squared_error: 0.1729\n",
            "Epoch 5/30\n",
            "4/4 [==============================] - 1s 222ms/step - loss: 0.0332 - root_mean_squared_error: 0.1823 - val_loss: 0.0275 - val_root_mean_squared_error: 0.1660\n",
            "Epoch 6/30\n",
            "4/4 [==============================] - 1s 221ms/step - loss: 0.0321 - root_mean_squared_error: 0.1791 - val_loss: 0.0261 - val_root_mean_squared_error: 0.1616\n",
            "Epoch 7/30\n",
            "4/4 [==============================] - 1s 221ms/step - loss: 0.0296 - root_mean_squared_error: 0.1720 - val_loss: 0.0246 - val_root_mean_squared_error: 0.1570\n",
            "Epoch 8/30\n",
            "4/4 [==============================] - 1s 221ms/step - loss: 0.0270 - root_mean_squared_error: 0.1642 - val_loss: 0.0207 - val_root_mean_squared_error: 0.1440\n",
            "Epoch 9/30\n",
            "4/4 [==============================] - 1s 223ms/step - loss: 0.0219 - root_mean_squared_error: 0.1478 - val_loss: 0.0162 - val_root_mean_squared_error: 0.1273\n",
            "Epoch 10/30\n",
            "4/4 [==============================] - 1s 221ms/step - loss: 0.0155 - root_mean_squared_error: 0.1245 - val_loss: 0.0096 - val_root_mean_squared_error: 0.0982\n",
            "Epoch 11/30\n",
            "4/4 [==============================] - 1s 225ms/step - loss: 0.0085 - root_mean_squared_error: 0.0921 - val_loss: 0.0056 - val_root_mean_squared_error: 0.0746\n",
            "Epoch 12/30\n",
            "4/4 [==============================] - 1s 226ms/step - loss: 0.0095 - root_mean_squared_error: 0.0973 - val_loss: 0.0087 - val_root_mean_squared_error: 0.0934\n",
            "Epoch 13/30\n",
            "4/4 [==============================] - 1s 226ms/step - loss: 0.0077 - root_mean_squared_error: 0.0878 - val_loss: 0.0066 - val_root_mean_squared_error: 0.0815\n",
            "Epoch 14/30\n",
            "4/4 [==============================] - 1s 223ms/step - loss: 0.0068 - root_mean_squared_error: 0.0822 - val_loss: 0.0068 - val_root_mean_squared_error: 0.0825\n",
            "Epoch 15/30\n",
            "4/4 [==============================] - 1s 259ms/step - loss: 0.0070 - root_mean_squared_error: 0.0838 - val_loss: 0.0060 - val_root_mean_squared_error: 0.0773\n",
            "Epoch 16/30\n",
            "4/4 [==============================] - 1s 237ms/step - loss: 0.0061 - root_mean_squared_error: 0.0781 - val_loss: 0.0051 - val_root_mean_squared_error: 0.0711\n",
            "Epoch 17/30\n",
            "4/4 [==============================] - 1s 231ms/step - loss: 0.0053 - root_mean_squared_error: 0.0727 - val_loss: 0.0045 - val_root_mean_squared_error: 0.0673\n",
            "Epoch 18/30\n",
            "4/4 [==============================] - 1s 233ms/step - loss: 0.0054 - root_mean_squared_error: 0.0738 - val_loss: 0.0044 - val_root_mean_squared_error: 0.0661\n",
            "Epoch 19/30\n",
            "4/4 [==============================] - 1s 233ms/step - loss: 0.0051 - root_mean_squared_error: 0.0715 - val_loss: 0.0046 - val_root_mean_squared_error: 0.0680\n",
            "Epoch 20/30\n",
            "4/4 [==============================] - 1s 225ms/step - loss: 0.0048 - root_mean_squared_error: 0.0695 - val_loss: 0.0045 - val_root_mean_squared_error: 0.0669\n",
            "Epoch 21/30\n",
            "4/4 [==============================] - 1s 229ms/step - loss: 0.0050 - root_mean_squared_error: 0.0708 - val_loss: 0.0049 - val_root_mean_squared_error: 0.0698\n",
            "Epoch 22/30\n",
            "4/4 [==============================] - 1s 225ms/step - loss: 0.0047 - root_mean_squared_error: 0.0683 - val_loss: 0.0044 - val_root_mean_squared_error: 0.0660\n",
            "Epoch 23/30\n",
            "4/4 [==============================] - 1s 227ms/step - loss: 0.0050 - root_mean_squared_error: 0.0706 - val_loss: 0.0041 - val_root_mean_squared_error: 0.0644\n",
            "Epoch 24/30\n",
            "4/4 [==============================] - 1s 227ms/step - loss: 0.0048 - root_mean_squared_error: 0.0691 - val_loss: 0.0045 - val_root_mean_squared_error: 0.0668\n",
            "Epoch 25/30\n",
            "4/4 [==============================] - 1s 225ms/step - loss: 0.0046 - root_mean_squared_error: 0.0679 - val_loss: 0.0041 - val_root_mean_squared_error: 0.0643\n",
            "Epoch 26/30\n",
            "4/4 [==============================] - 1s 226ms/step - loss: 0.0046 - root_mean_squared_error: 0.0675 - val_loss: 0.0044 - val_root_mean_squared_error: 0.0661\n",
            "Epoch 27/30\n",
            "4/4 [==============================] - 1s 224ms/step - loss: 0.0046 - root_mean_squared_error: 0.0681 - val_loss: 0.0042 - val_root_mean_squared_error: 0.0651\n",
            "Epoch 28/30\n",
            "4/4 [==============================] - 1s 225ms/step - loss: 0.0048 - root_mean_squared_error: 0.0692 - val_loss: 0.0048 - val_root_mean_squared_error: 0.0692\n",
            "Epoch 29/30\n",
            "4/4 [==============================] - 1s 224ms/step - loss: 0.0054 - root_mean_squared_error: 0.0735 - val_loss: 0.0046 - val_root_mean_squared_error: 0.0681\n",
            "Epoch 30/30\n",
            "4/4 [==============================] - 1s 231ms/step - loss: 0.0054 - root_mean_squared_error: 0.0732 - val_loss: 0.0042 - val_root_mean_squared_error: 0.0651\n"
          ]
        }
      ],
      "source": [
        "history = model.fit(\n",
        "    x=[trainX, trainLastNDVI, trainDays],\n",
        "    y=trainY,\n",
        "    epochs=30,\n",
        "    verbose='auto',\n",
        "    validation_split=0.2)"
      ]
    },
    {
      "cell_type": "code",
      "execution_count": null,
      "metadata": {
        "id": "2tPlTUD4OfSV"
      },
      "outputs": [],
      "source": [
        "from keras import backend as k\n",
        "\n",
        "input_images_tensor = tf.cast(tf.constant(trainX), tf.float32)\n",
        "last_ndvi_tensor = tf.constant(trainLastNDVI)\n",
        "with tf.GradientTape() as g:\n",
        "    g.watch(input_images_tensor)\n",
        "    g.watch(last_ndvi_tensor)\n",
        "    output_tensor = model([input_images_tensor, last_ndvi_tensor])\n",
        "\n",
        "gradients = g.gradient(output_tensor, input_images_tensor)\n",
        "gradients < 0.0001\n"
      ]
    },
    {
      "cell_type": "code",
      "execution_count": null,
      "metadata": {
        "colab": {
          "base_uri": "https://localhost:8080/",
          "height": 472
        },
        "id": "pEHmZ78vqorA",
        "outputId": "3576e878-22a8-417a-c419-0eb90a7ced06"
      },
      "outputs": [
        {
          "output_type": "display_data",
          "data": {
            "text/plain": [
              "<Figure size 640x480 with 1 Axes>"
            ],
            "image/png": "[encoded data removed]"
          },
          "metadata": {}
        }
      ],
      "source": [
        "from matplotlib import pyplot as plt\n",
        "\n",
        "plt.plot(history.history['root_mean_squared_error'])\n",
        "plt.plot(history.history['val_root_mean_squared_error'])\n",
        "plt.title('model accuracy')\n",
        "plt.ylabel('mean_squared_error')\n",
        "plt.xlabel('epoch')\n",
        "plt.legend(['train', 'val'], loc='upper left')\n",
        "plt.show()"
      ]
    },
    {
      "cell_type": "code",
      "execution_count": null,
      "metadata": {
        "colab": {
          "base_uri": "https://localhost:8080/"
        },
        "id": "voJ5lKLdRFjP",
        "outputId": "85776233-df0a-4e77-aa5f-5469a599655e"
      },
      "outputs": [
        {
          "output_type": "stream",
          "name": "stdout",
          "text": [
            "2/2 [==============================] - 0s 23ms/step - loss: 0.0042 - root_mean_squared_error: 0.0647\n"
          ]
        },
        {
          "output_type": "execute_result",
          "data": {
            "text/plain": [
              "[0.004187215585261583, 0.06470870226621628]"
            ]
          },
          "metadata": {},
          "execution_count": 174
        }
      ],
      "source": [
        "model.evaluate([testX, testLastNDVI, testDays], testY)"
      ]
    },
    {
      "cell_type": "code",
      "execution_count": null,
      "metadata": {
        "id": "wKVmYkyolXNy"
      },
      "outputs": [],
      "source": [
        "model.save(\"top_model.keras\")"
      ]
    },
    {
      "cell_type": "code",
      "execution_count": 1,
      "metadata": {
        "colab": {
          "base_uri": "https://localhost:8080/",
          "height": 236
        },
        "id": "8-TJgtg88yyN",
        "outputId": "e02011f4-90d4-48f3-b72a-451ca0554205"
      },
      "outputs": [
        {
          "output_type": "error",
          "ename": "NameError",
          "evalue": "ignored",
          "traceback": [
            "\u001b[0;31m---------------------------------------------------------------------------\u001b[0m",
            "\u001b[0;31mNameError\u001b[0m                                 Traceback (most recent call last)",
            "\u001b[0;32m<ipython-input-1-d61cc80bf2df>\u001b[0m in \u001b[0;36m<cell line: 2>\u001b[0;34m()\u001b[0m\n\u001b[1;32m      1\u001b[0m \u001b[0;32mfrom\u001b[0m \u001b[0msklearn\u001b[0m\u001b[0;34m.\u001b[0m\u001b[0mmetrics\u001b[0m \u001b[0;32mimport\u001b[0m \u001b[0mmean_squared_error\u001b[0m\u001b[0;34m\u001b[0m\u001b[0;34m\u001b[0m\u001b[0m\n\u001b[0;32m----> 2\u001b[0;31m \u001b[0mdataset_plus\u001b[0m \u001b[0;34m=\u001b[0m \u001b[0mnp\u001b[0m\u001b[0;34m.\u001b[0m\u001b[0mload\u001b[0m\u001b[0;34m(\u001b[0m\u001b[0;34m\"./dataset-plus.npy\"\u001b[0m\u001b[0;34m,\u001b[0m \u001b[0mallow_pickle\u001b[0m\u001b[0;34m=\u001b[0m\u001b[0;32mTrue\u001b[0m\u001b[0;34m)\u001b[0m\u001b[0;34m\u001b[0m\u001b[0;34m\u001b[0m\u001b[0m\n\u001b[0m\u001b[1;32m      3\u001b[0m \u001b[0;34m\u001b[0m\u001b[0m\n\u001b[1;32m      4\u001b[0m \u001b[0mentry\u001b[0m \u001b[0;34m=\u001b[0m \u001b[0mdataset\u001b[0m\u001b[0;34m[\u001b[0m\u001b[0;36m5\u001b[0m\u001b[0;34m]\u001b[0m\u001b[0;34m\u001b[0m\u001b[0;34m\u001b[0m\u001b[0m\n\u001b[1;32m      5\u001b[0m \u001b[0;34m\u001b[0m\u001b[0m\n",
            "\u001b[0;31mNameError\u001b[0m: name 'np' is not defined"
          ]
        }
      ],
      "source": [
        "from sklearn.metrics import mean_squared_error\n",
        "dataset_plus = np.load(\"./dataset-plus.npy\", allow_pickle=True)\n",
        "\n",
        "entry = dataset[5]\n",
        "\n",
        "\n",
        "#for idx, entry in enumerate(dataset):\n",
        "#  if '20230209' in entry['id']:\n",
        "#    print(idx)\n",
        "#print(entry['id'])\n",
        "\n",
        "sar = np.reshape(entry['sarImage'], (1, entry['sarImage'].shape[0], entry['sarImage'].shape[1], entry['sarImage'].shape[2]))\n",
        "lastNDVI = np.reshape(entry['lastNDVI'], (1, entry['lastNDVI'].shape[0], entry['lastNDVI'].shape[1]))\n",
        "takenBefore = np.reshape(entry['lastNDVITakenBefore'], (1, 1))\n",
        "\n",
        "prediction = model.predict([[sar], [lastNDVI], [takenBefore]])\n",
        "\n",
        "prediction = np.reshape(prediction, ndviShape)\n",
        "print(prediction.shape)\n",
        "\n",
        "actual = entry['y']\n",
        "actual = dataset[151]['y']\n",
        "\n",
        "plt.matshow(actual, vmin=0, vmax=0.55)\n",
        "plt.show()\n",
        "plt.matshow(prediction, vmin=0,vmax=0.55)\n",
        "plt.show()\n",
        "\n",
        "\n",
        "mse = mean_squared_error(actual, prediction)\n",
        "print(np.sqrt(mse))"
      ]
    },
    {
      "cell_type": "code",
      "execution_count": null,
      "metadata": {
        "colab": {
          "base_uri": "https://localhost:8080/"
        },
        "id": "tkfKcjPxEAC1",
        "outputId": "b3d9a734-a70f-4a00-db03-b2d9e222346e"
      },
      "outputs": [
        {
          "name": "stdout",
          "output_type": "stream",
          "text": [
            "32.85708740890424\n"
          ]
        }
      ],
      "source": [
        "from keras import backend as K\n",
        "import psutil\n",
        "\n",
        "\n",
        "# Check the GPU memory usage\n",
        "gpu_memory_used = psutil.virtual_memory().used\n",
        "gpu_memory_total = psutil.virtual_memory().total\n",
        "gpu_memory_percent = (gpu_memory_used / gpu_memory_total) * 100\n",
        "\n",
        "print(gpu_memory_percent)\n",
        "\n",
        "K.clear_session()"
      ]
    }
  ],
  "metadata": {
    "accelerator": "GPU",
    "colab": {
      "provenance": [],
      "include_colab_link": true
    },
    "kernelspec": {
      "display_name": "Python 3",
      "name": "python3"
    },
    "language_info": {
      "name": "python"
    }
  },
  "nbformat": 4,
  "nbformat_minor": 0
}